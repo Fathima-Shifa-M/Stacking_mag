{
 "cells": [
  {
   "cell_type": "code",
   "execution_count": 28,
   "id": "eaca1feb",
   "metadata": {},
   "outputs": [],
   "source": [
    "import numpy as np#load ice cube data\n",
    "from scipy.optimize import minimize\n",
    "import pandas as pd\n",
    "import matplotlib.pyplot as plt\n",
    "from scipy.integrate import quad\n",
    "import pickle as pkl"
   ]
  },
  {
   "cell_type": "markdown",
   "id": "8b365985",
   "metadata": {},
   "source": [
    "# LOADING FILES"
   ]
  },
  {
   "cell_type": "code",
   "execution_count": 29,
   "id": "abbd9d9e",
   "metadata": {},
   "outputs": [],
   "source": [
    "files=[\"IC40_exp_new.csv\",\"IC59_exp_new.csv\",\"IC79_exp_new.csv\",\"IC86_I_exp_new.csv\",\"IC86_II_exp_new.csv\", \n",
    "       \"IC86_III_exp_new.csv\",\"IC86_IV_exp_new.csv\",\"IC86_V_exp_new.csv\",\"IC86_VI_exp_new.csv\",\n",
    "       \"IC86_VII_exp_new.csv\"]   #ALL SKY POINT SOURCES"
   ]
  },
  {
   "cell_type": "code",
   "execution_count": 30,
   "id": "ce35b780",
   "metadata": {},
   "outputs": [
    {
     "data": {
      "text/plain": [
       "1134431"
      ]
     },
     "execution_count": 30,
     "metadata": {},
     "output_type": "execute_result"
    }
   ],
   "source": [
    "data=np.loadtxt(\"IC40_exp_new.csv\")\n",
    "for name in files[1:]:#indexing the list\n",
    "    da=np.loadtxt(name)\n",
    "    data=np.vstack((data,da))#load everyfile\n",
    "mjd,log10_E,Ang_err,RA,Dec,Azim,Zenith=data.T\n",
    "len(RA)\n",
    "#FIRST LOAD THE DATA IC40,THEN LOAD OTHER DATA AND APPEND WITH IC40   "
   ]
  },
  {
   "cell_type": "code",
   "execution_count": 31,
   "id": "8c1d511c",
   "metadata": {},
   "outputs": [
    {
     "name": "stdout",
     "output_type": "stream",
     "text": [
      "[ 16.76  -13.371  11.29  ...  42.543  44.72    4.708]\n"
     ]
    }
   ],
   "source": [
    "fields=[log10_E,RA,Dec,Ang_err]\n",
    "print(Dec)\n",
    "iceang=fields[3]\n",
    "#EXTRACT THE COLUMN"
   ]
  },
  {
   "cell_type": "code",
   "execution_count": 32,
   "id": "55cae2b2",
   "metadata": {},
   "outputs": [
    {
     "name": "stdout",
     "output_type": "stream",
     "text": [
      "[array([3.31, 5.17, 3.92, ..., 2.88, 2.98, 3.28]), array([203.024,  75.024,  97.501, ..., 308.127, 332.199, 213.309]), array([ 16.76 , -13.371,  11.29 , ...,  42.543,  44.72 ,   4.708]), array([0.48, 0.62, 0.56, ..., 0.3 , 0.21, 0.25])]\n"
     ]
    }
   ],
   "source": [
    "print(fields)"
   ]
  },
  {
   "cell_type": "code",
   "execution_count": 132,
   "id": "68b84350",
   "metadata": {},
   "outputs": [],
   "source": [
    "df=pd.read_csv(\"TabO1.csv\") #MAGNETARS DATA\n",
    "#print(df)\n",
    "df.loc[31, 'RA'] = '08 43 00.0'\n",
    "df.loc[31, 'Decl'] = '+73 30 00'\n",
    "df.loc[32, 'RA'] = '00 47 30.0'\n",
    "df.loc[32, 'Decl'] = '-25 11 37 '\n",
    "df.loc[33,'RA']='09 52 34.1'\n",
    "df.loc[33,'Decl']='+68 50 42'\n",
    "df.loc[34,'RA']='00 44 18.0'\n",
    "df.loc[34,'Decl']='+42 18 00'\n",
    "df.loc[35,'RA']='13 42 06.24'\n",
    "df.loc[35,'Decl']='-26 53 48.1'\n",
    "df.loc[36,'RA']='00 49 12.0 '\n",
    "df.loc[36,'Decl']='26 06 00  '\n",
    "\n",
    "df.to_csv(\"updated_file.csv\", index=False) #ADD REFEREE MENTIONED MAGNETARS TO THE CURRENT DATA SET\n",
    "#print(df)\n",
    "\n",
    "#df.loc[1, 'RA'] = '09 55 59.28'\n",
    "#df.loc[1, 'Decl'] = '+69 41 02.40'\n"
   ]
  },
  {
   "cell_type": "code",
   "execution_count": 133,
   "id": "f7a7b2ec",
   "metadata": {},
   "outputs": [],
   "source": [
    "df1=df.rename({'RA':'RA_M'},axis=1)\n",
    "#print(df1)"
   ]
  },
  {
   "cell_type": "code",
   "execution_count": 134,
   "id": "c36c9256",
   "metadata": {},
   "outputs": [],
   "source": [
    "import re\n",
    "def convert_ra_to_comma(ra):#replacing space with comma\n",
    "    return re.sub(r\"\\s+\", \",\",ra.strip())\n",
    "df1['RA_M_comma'] = df1['RA_M'].apply(convert_ra_to_comma)# Apply the function to the entire RA_M column\n",
    "def convert_dec_to_comma(dec):\n",
    "    return re.sub(r\"\\s+\", \",\",dec.strip())\n",
    "df1['dec_M_comma'] = df1['Decl'].apply(convert_dec_to_comma)\n",
    "    \n",
    "#print(df1[['Name', 'RA_M', 'RA_M_comma', 'Decl','dec_M_comma']])# Show the DataFrame with the new RA_M_Comma column"
   ]
  },
  {
   "cell_type": "code",
   "execution_count": 135,
   "id": "d3433c3c",
   "metadata": {},
   "outputs": [],
   "source": [
    "def ra_to_degrees(ra_string):\n",
    "    ra_parts = ra_string.split(',')\n",
    "    ra_hours = int(ra_parts[0])  # Convert to integer (handles leading zeros)\n",
    "    ra_minutes = int(ra_parts[1])  # Convert to integer (handles leading zeros)\n",
    "    ra_seconds = float(ra_parts[2])  # Convert to float\n",
    "    return (ra_hours * 15) + (ra_minutes / 4) + (ra_seconds / 240)\n",
    "#field3.loc[:,'RA_M(deg)']=field3['RA_M_comma'].apply(ra_to_degrees)\n",
    "def dec_to_degrees(dec_string):\n",
    "    dec_parts = dec_string.split(',')\n",
    "    dec_degrees = int(dec_parts[0])  # Convert to integer (handles leading zeros)\n",
    "    dec_minutes = int(dec_parts[1])  # Convert to integer (handles leading zeros)\n",
    "    dec_seconds = float(dec_parts[2])\n",
    "    sign = 1 if dec_degrees >= 0 else -1\n",
    "    return abs(dec_degrees) + (dec_minutes / 60) + (dec_seconds / 3600) * sign\n",
    "df1['RA_M(deg)'] = df1['RA_M_comma'].apply(ra_to_degrees)\n",
    "df1['Decl_M(deg)'] = df1['dec_M_comma'].apply(dec_to_degrees)\n",
    "#print(df1)"
   ]
  },
  {
   "cell_type": "code",
   "execution_count": 136,
   "id": "9c83909d",
   "metadata": {},
   "outputs": [],
   "source": [
    "df1.at[32, 'Decl_M(deg)'] =- 25.02\n",
    "df1.at[15, 'Decl_M(deg)'] = 16.11\n",
    "df1.at[35, 'Decl_M(deg)'] =- 26.87 \n",
    "df1.at[36, 'Decl_M(deg)'] = -26.10\n",
    "field3 = df1[['RA_M(deg)', 'Decl_M(deg)']]\n",
    "#print(field3)\n"
   ]
  },
  {
   "cell_type": "code",
   "execution_count": 38,
   "id": "bff144dd",
   "metadata": {},
   "outputs": [
    {
     "name": "stdout",
     "output_type": "stream",
     "text": [
      "[203.024  75.024  97.501 ... 308.127 332.199 213.309]\n",
      "[ 16.76  -13.371  11.29  ...  42.543  44.72    4.708]\n",
      "[ 15.17975     26.5933625   64.6411125   75.27816667  81.50370833\n",
      " 162.52975    237.72551608 245.68704167 248.96601667 251.7925\n",
      " 257.19529167 258.52391667 266.41735    272.16390417 272.46286233\n",
      " 274.51541667 275.575      278.434875   278.71715833 280.33059583\n",
      " 283.19445833 286.80970833 293.7316575  345.2845625  118.927\n",
      " 270.24583333 272.04666667 274.71408333 281.22783333 303.48708333\n",
      " 281.60391667 130.75        11.875      148.14208333  11.075\n",
      " 205.526       12.3       ]\n",
      "[ 72.17394444  61.75088611  57.53969722  45.27608889  66.05658333\n",
      "  59.87738889  54.29330164  49.81869444  47.57685833  45.86197222\n",
      "  40.11876667  38.15808333  28.99171722  20.38893056  19.70224125\n",
      "  16.11        16.05922222   8.51458333   8.73443889   4.93023333\n",
      "   0.55494444   9.32225     21.89660733  58.87901389  29.53633333\n",
      "  22.92        20.61972222  15.97705      2.91858333  34.33\n",
      "   2.95830556  73.5        -25.02        68.845       42.3\n",
      " -26.87       -26.1       ]\n"
     ]
    }
   ],
   "source": [
    "ra_mag=np.array(field3['RA_M(deg)'])\n",
    "dec_mag=np.array(field3['Decl_M(deg)'])\n",
    "ice_ra=(fields[1])\n",
    "ice_dec=(fields[2])\n",
    "print(ice_ra)\n",
    "print(ice_dec)\n",
    "print(ra_mag)\n",
    "#print(dec_mag)|\n",
    "print(dec_mag)"
   ]
  },
  {
   "cell_type": "markdown",
   "id": "95c35c48",
   "metadata": {},
   "source": [
    "# INTEGRAL OF AREA*DF/DE"
   ]
  },
  {
   "cell_type": "code",
   "execution_count": 39,
   "id": "299e1758",
   "metadata": {},
   "outputs": [],
   "source": [
    "column_namesarea = [\"log10(E_nu/GeV)_min\", \"log10(E_nu/GeV)_max\", \"Dec_nu_min[deg]\", \"Dec_nu_max[deg]\", \"A_Eff[cm^2]\"]\n",
    "dataarea1= pd.read_csv(\"IC40_effectiveArea.csv\", sep=\"\\s+\",  names=column_namesarea, skiprows=1)\n",
    "dataarea2= pd.read_csv(\"IC59_effectiveArea.csv\", sep=\"\\s+\", names=column_namesarea, skiprows=1)\n",
    "dataarea3= pd.read_csv(\"IC79_effectiveArea.csv\", sep=\"\\s+\", names=column_namesarea, skiprows=1)\n",
    "dataarea4= pd.read_csv(\"IC86_I_effectiveArea.csv\", sep=\"\\s+\",  names=column_namesarea, skiprows=1)\n",
    "dataarea5= pd.read_csv(\"IC86_II_effectiveArea.csv\", sep=\"\\s+\",  names=column_namesarea, skiprows=1)"
   ]
  },
  {
   "cell_type": "code",
   "execution_count": 40,
   "id": "771fc94e",
   "metadata": {},
   "outputs": [],
   "source": [
    "gamma=-2.53\n",
    "Emin1=dataarea1[\"log10(E_nu/GeV)_min\"] #unitless\n",
    "Emax1=dataarea1[\"log10(E_nu/GeV)_max\"] #unitless\n",
    "decmin1=dataarea1[\"Dec_nu_min[deg]\"]   #degree\n",
    "decmax1=dataarea1[\"Dec_nu_max[deg]\"]    #degree\n",
    "dec1=0.5*(decmin1+decmax1)\n",
    "effarea1=dataarea1[ \"A_Eff[cm^2]\"]     #degree\n",
    "Eff_1=[]\n",
    "phiE_1=[]\n",
    "for j in range(0,37):\n",
    "    mdec=dec_mag[j]\n",
    "    idx1=np.where((decmin1<=mdec)&(decmax1>mdec))\n",
    "    log10E1=[0.5*(Emin1[i]+Emax1[i]) for i in idx1]\n",
    "    A1=[effarea1[i] for i in idx1] #A in cm^2\n",
    "    E1=pow(10,np.array(log10E1)-5) #10−5GeV\n",
    "    phiE1=E1**gamma       #GeV\n",
    "    y1=A1*phiE1               #cm² GeV\n",
    "    eff1=np.trapz(y1,x=E1)   \n",
    "    Eff_1.append(eff1)          #10−5cm2GeV\n",
    "    #phiE_1.append(phiE1)\n",
    "    #print(phiE1)"
   ]
  },
  {
   "cell_type": "code",
   "execution_count": 41,
   "id": "a58b2bcc",
   "metadata": {},
   "outputs": [],
   "source": [
    "#print(Eff_1)\n",
    "#(phiE_1)"
   ]
  },
  {
   "cell_type": "code",
   "execution_count": 42,
   "id": "64d7e629",
   "metadata": {},
   "outputs": [
    {
     "name": "stdout",
     "output_type": "stream",
     "text": [
      "[array([9340181.52662067]), array([10229945.65922229]), array([10665971.57608409]), array([11269802.87488753]), array([10229945.65922229]), array([10665971.57608409]), array([11166373.3732454]), array([10656946.40728885]), array([11006679.64645741]), array([11269802.87488753]), array([11254290.59084455]), array([11109115.6857582]), array([11691305.77805648]), array([11923666.77731739]), array([11923666.77731739]), array([11994636.63801732]), array([11994636.63801732]), array([12326875.4817617]), array([12326875.4817617]), array([11903772.20806117]), array([11368237.04474474]), array([12095562.59355901]), array([11593709.81384374]), array([10665971.57608409]), array([11691305.77805648]), array([11593709.81384374]), array([11923666.77731739]), array([11994636.63801732]), array([12036430.51953912]), array([11169425.95882318]), array([12036430.51953912]), array([9340181.52662067]), array([105602.32374289]), array([9340181.52662067]), array([11254290.59084455]), array([93030.24680543]), array([105602.32374289])]\n",
      "[[2.17270118e+07 6.77641508e+06 2.11348904e+06 6.59173895e+05\n",
      "  2.05589060e+05 6.41209577e+04 1.99986187e+04 6.23734835e+03\n",
      "  1.94536008e+03 6.06736330e+02 1.89234362e+02 5.90201080e+01\n",
      "  1.84077200e+01 5.74116462e+00 1.79060585e+00 5.58470195e-01\n",
      "  1.74180687e-01 5.43250331e-02 1.69433780e-02 5.28445252e-03\n",
      "  1.64816239e-03 5.14043652e-04 1.60324539e-04 5.00034535e-05\n",
      "  1.55955250e-05 4.86407206e-06 1.51705037e-06 4.73151259e-07\n",
      "  1.47570653e-07 4.60256574e-08 1.43548943e-08 4.47713304e-09\n",
      "  1.39636836e-09 4.35511874e-10 1.35831345e-10 4.23642966e-11\n",
      "  1.32129563e-11 4.12097519e-12 1.28528666e-12 4.00866718e-13]]\n"
     ]
    }
   ],
   "source": [
    "gamma=-2.53\n",
    "Emin2=dataarea2[\"log10(E_nu/GeV)_min\"]\n",
    "Emax2=dataarea2[\"log10(E_nu/GeV)_max\"]\n",
    "decmin2=dataarea2[\"Dec_nu_min[deg]\"]\n",
    "decmax2=dataarea2[\"Dec_nu_max[deg]\"]\n",
    "dec2=0.5*(decmin2+decmax2)\n",
    "effarea2=dataarea2[ \"A_Eff[cm^2]\"]\n",
    "Eff_2=[]\n",
    "\n",
    "for i in range(0,37):\n",
    "    mdec=dec_mag[i]\n",
    "    idx2=np.where((decmin2<=mdec)&(decmax2>mdec))\n",
    "    log10E2=[0.5*(Emin2[i]+Emax2[i]) for i in idx2]\n",
    "    A2=[effarea2[i] for i in idx2] #A in cm^2\n",
    "    E2=pow(10,np.array(log10E2)-5)\n",
    "    phiE2=E2**gamma\n",
    "    y2=A2*phiE2\n",
    "    eff2=np.trapz(y2,x=E2)\n",
    "    Eff_2.append(eff2)\n",
    "print(Eff_2)\n",
    "print(phiE2)"
   ]
  },
  {
   "cell_type": "code",
   "execution_count": 43,
   "id": "145842fb",
   "metadata": {},
   "outputs": [
    {
     "name": "stdout",
     "output_type": "stream",
     "text": [
      "[array([11780734.50115796]), array([12766202.76005507]), array([13434035.29672661]), array([14364868.38254651]), array([12766202.76005507]), array([13434035.29672661]), array([14057592.02213136]), array([14047706.04071065]), array([14221540.53892313]), array([14364868.38254651]), array([14498990.95105567]), array([14463791.26166035]), array([14515125.50806031]), array([15358142.83807105]), array([15358142.83807105]), array([15363446.0230365]), array([15363446.0230365]), array([15566527.79863111]), array([15566527.79863111]), array([15237716.24000902]), array([14744885.50990121]), array([15378698.47960457]), array([15205876.94947916]), array([13434035.29672661]), array([14515125.50806031]), array([15205876.94947916]), array([15358142.83807105]), array([15363446.0230365]), array([15237968.23907757]), array([14513432.67333997]), array([15237968.23907757]), array([11780734.50115796]), array([173076.44236549]), array([11780734.50115796]), array([14498990.95105567]), array([144336.58716871]), array([173076.44236549])]\n"
     ]
    }
   ],
   "source": [
    "gamma=-2.53\n",
    "Emin3=dataarea3[\"log10(E_nu/GeV)_min\"]\n",
    "Emax3=dataarea3[\"log10(E_nu/GeV)_max\"]\n",
    "decmin3=dataarea3[\"Dec_nu_min[deg]\"]\n",
    "decmax3=dataarea3[\"Dec_nu_max[deg]\"]\n",
    "dec3=0.5*(decmin3+decmax3)\n",
    "effarea3=dataarea3[ \"A_Eff[cm^2]\"]\n",
    "Eff_3=[]\n",
    "\n",
    "for i in range(0,37):\n",
    "    mdec=dec_mag[i]\n",
    "    idx3=np.where((decmin3<=mdec)&(decmax3>mdec))\n",
    "    log10E3=[0.5*(Emin3[i]+Emax3[i]) for i in idx3]\n",
    "    A3=[effarea3[i] for i in idx3] #A in cm^2\n",
    "    E3=pow(10,np.array(log10E3)-5)\n",
    "    phiE3=E3**gamma\n",
    "    y3=A3*phiE3\n",
    "    eff3=np.trapz(y3,x=E3)\n",
    "    Eff_3.append(eff3)\n",
    "    \n",
    "print(Eff_3)\n"
   ]
  },
  {
   "cell_type": "code",
   "execution_count": 44,
   "id": "9f0653f5",
   "metadata": {},
   "outputs": [
    {
     "name": "stdout",
     "output_type": "stream",
     "text": [
      "[560    2.1\n",
      "561    2.3\n",
      "562    2.5\n",
      "563    2.7\n",
      "564    2.9\n",
      "565    3.1\n",
      "566    3.3\n",
      "567    3.5\n",
      "568    3.7\n",
      "569    3.9\n",
      "570    4.1\n",
      "571    4.3\n",
      "572    4.5\n",
      "573    4.7\n",
      "574    4.9\n",
      "575    5.1\n",
      "576    5.3\n",
      "577    5.5\n",
      "578    5.7\n",
      "579    5.9\n",
      "580    6.1\n",
      "581    6.3\n",
      "582    6.5\n",
      "583    6.7\n",
      "584    6.9\n",
      "585    7.1\n",
      "586    7.3\n",
      "587    7.5\n",
      "588    7.7\n",
      "589    7.9\n",
      "590    8.1\n",
      "591    8.3\n",
      "592    8.5\n",
      "593    8.7\n",
      "594    8.9\n",
      "595    9.1\n",
      "596    9.3\n",
      "597    9.5\n",
      "598    9.7\n",
      "599    9.9\n",
      "dtype: float64]\n"
     ]
    }
   ],
   "source": [
    "gamma=-2.53\n",
    "Emin=dataarea4[\"log10(E_nu/GeV)_min\"]\n",
    "Emax=dataarea4[\"log10(E_nu/GeV)_max\"]\n",
    "decmin=dataarea4[\"Dec_nu_min[deg]\"]\n",
    "decmax=dataarea4[\"Dec_nu_max[deg]\"]\n",
    "dec=0.5*(decmin+decmax)\n",
    "effarea=dataarea4[ \"A_Eff[cm^2]\"]\n",
    "Eff_4=[]\n",
    "for i in range(0,37):\n",
    "    mdec=dec_mag[i]\n",
    "    idx=np.where((decmin<=mdec)&(decmax>mdec))\n",
    "    log10E=[0.5*(Emin[i]+Emax[i]) for i in idx]\n",
    "    A=[effarea[i] for i in idx] #A in cm^2\n",
    "    E=pow(10,np.array(log10E)-5)\n",
    "    phiE=E**gamma\n",
    "    y=A*phiE\n",
    "    eff4=np.trapz(y,x=E)\n",
    "    Eff_4.append(eff4)\n",
    "#print (Eff_4)\n",
    "print(log10E)"
   ]
  },
  {
   "cell_type": "code",
   "execution_count": 45,
   "id": "f80f9e4a",
   "metadata": {},
   "outputs": [
    {
     "name": "stdout",
     "output_type": "stream",
     "text": [
      "[array([15179517.57947307]), array([15860741.83382469]), array([16317836.54165214]), array([16766963.54495137]), array([15860741.83382469]), array([16317836.54165214]), array([16783079.72309577]), array([16832905.18910803]), array([16715826.03883107]), array([16766963.54495137]), array([16807972.63847226]), array([16960996.36309858]), array([17269942.78554372]), array([17509271.76194988]), array([17509271.76194988]), array([17380226.98519227]), array([17380226.98519227]), array([17229599.59357484]), array([17229599.59357484]), array([17108896.27166581]), array([16010995.73767465]), array([17217625.66087968]), array([17505025.59084332]), array([16317836.54165214]), array([17269942.78554372]), array([17505025.59084332]), array([17509271.76194988]), array([17380226.98519227]), array([16757590.21957814]), array([16998989.07002765]), array([16757590.21957814]), array([15179517.57947307]), array([142539.1296101]), array([15179517.57947307]), array([16807972.63847226]), array([124813.74190685]), array([142539.1296101])]\n"
     ]
    }
   ],
   "source": [
    "gamma=-2.53\n",
    "Emin=dataarea5[\"log10(E_nu/GeV)_min\"]\n",
    "Emax=dataarea5[\"log10(E_nu/GeV)_max\"]\n",
    "decmin=dataarea5[\"Dec_nu_min[deg]\"]\n",
    "decmax=dataarea5[\"Dec_nu_max[deg]\"]\n",
    "dec=0.5*(decmin+decmax)\n",
    "effarea=dataarea5[ \"A_Eff[cm^2]\"]\n",
    "Eff_5=[]\n",
    "for i in range(0,37):\n",
    "    mdec=dec_mag[i]\n",
    "    idx=np.where((decmin<=mdec)&(decmax>mdec))\n",
    "    log10E=[0.5*(Emin[i]+Emax[i]) for i in idx]\n",
    "    A=[effarea[i] for i in idx] #A in cm^2\n",
    "    E=pow(10,np.array(log10E)-5)\n",
    "    phiE=E**gamma\n",
    "    y=A*phiE\n",
    "    eff5=np.trapz(y,x=E)\n",
    "    Eff_5.append(eff5)\n",
    "   # print(idx)\n",
    "print (Eff_5)\n"
   ]
  },
  {
   "cell_type": "code",
   "execution_count": 46,
   "id": "01353a04",
   "metadata": {},
   "outputs": [],
   "source": [
    "#np.vstack([Eff_1,Eff_2,Eff_3,Eff_4,Eff_5])"
   ]
  },
  {
   "cell_type": "code",
   "execution_count": 47,
   "id": "309de6c3",
   "metadata": {},
   "outputs": [],
   "source": [
    "column_namestime=[\"MJD_start[days]\",\"MJD_stop[days]\"]\n",
    "datatime1= pd.read_csv(\"IC40_exp(1).csv\", sep=\"\\s+\",  names=column_namestime, skiprows=1)\n",
    "datatime2= pd.read_csv(\"IC59_exp.csv\", sep=\"\\s+\", names=column_namestime, skiprows=1)\n",
    "datatime3= pd.read_csv(\"IC79_exp.csv\", sep=\"\\s+\",  names=column_namestime, skiprows=1)\n",
    "datatime4= pd.read_csv(\"IC86_I_exp.csv\", sep=\"\\s+\",  names=column_namestime, skiprows=1)\n",
    "datatime5= pd.read_csv(\"IC86_II_exp.csv\", sep=\"\\s+\",  names=column_namestime, skiprows=1)\n",
    "datatime6= pd.read_csv(\"IC86_III_exp.csv\", sep=\"\\s+\",  names=column_namestime, skiprows=1)\n",
    "datatime7= pd.read_csv(\"IC86_IV_exp.csv\", sep=\"\\s+\",  names=column_namestime, skiprows=1)\n",
    "datatime8= pd.read_csv(\"IC86_V_exp.csv\", sep=\"\\s+\", names=column_namestime, skiprows=1)\n",
    "datatime9= pd.read_csv(\"IC86_VI_exp.csv\", sep=\"\\s+\",  names=column_namestime, skiprows=1)\n",
    "datatime10= pd.read_csv(\"IC86_VII_exp.csv\", sep=\"\\s+\",  names=column_namestime, skiprows=1)"
   ]
  },
  {
   "cell_type": "code",
   "execution_count": 48,
   "id": "e9e0301e",
   "metadata": {},
   "outputs": [
    {
     "name": "stdout",
     "output_type": "stream",
     "text": [
      "376.3603109101532\n"
     ]
    }
   ],
   "source": [
    "#print(datatime10)\n",
    "datatimesum1=np.sum(datatime1['MJD_stop[days]']-datatime1['MJD_start[days]'])\n",
    "datatimesum2=np.sum(datatime2['MJD_stop[days]']-datatime2['MJD_start[days]'])\n",
    "datatimesum3=np.sum(datatime3['MJD_stop[days]']-datatime3['MJD_start[days]'])\n",
    "datatimesum4=np.sum(datatime4['MJD_stop[days]']-datatime4['MJD_start[days]'])\n",
    "datatimesum5=np.sum(datatime5['MJD_stop[days]']-datatime5['MJD_start[days]'])\n",
    "datatimesum6=np.sum(datatime6['MJD_stop[days]']-datatime6['MJD_start[days]'])\n",
    "datatimesum7=np.sum(datatime7['MJD_stop[days]']-datatime7['MJD_start[days]'])\n",
    "datatimesum8=np.sum(datatime8['MJD_stop[days]']-datatime8['MJD_start[days]'])\n",
    "datatimesum9=np.sum(datatime9['MJD_stop[days]']-datatime9['MJD_start[days]'])\n",
    "datatimesum10=np.sum(datatime10['MJD_stop[days]']-datatime10['MJD_start[days]'])\n",
    "#print(datatimesum1)\n",
    "print(datatimesum1)"
   ]
  },
  {
   "cell_type": "code",
   "execution_count": 49,
   "id": "3f0a66bc",
   "metadata": {},
   "outputs": [],
   "source": [
    "nsj_1=np.array(Eff_1)*datatimesum1*86400   #10−5cm2GeV−1.53s\n",
    "nsj_2=np.array(Eff_2)*datatimesum2*86400\n",
    "nsj_3=np.array(Eff_3)*datatimesum3*86400\n",
    "nsj_4=np.array(Eff_4)*datatimesum4*86400\n",
    "nsj_5=np.array(Eff_5)*datatimesum5*86400\n",
    "nsj_6=np.array(Eff_5)*datatimesum6*86400\n",
    "nsj_7=np.array(Eff_5)*datatimesum7*86400\n",
    "nsj_8=np.array(Eff_5)*datatimesum8*86400\n",
    "nsj_9=np.array(Eff_5)*datatimesum9*86400\n",
    "nsj_10=np.array(Eff_5)*datatimesum10*86400\n",
    "#print(nsj_1)\n",
    "#print(nsj_10)"
   ]
  },
  {
   "cell_type": "code",
   "execution_count": 50,
   "id": "b5fa0fa0",
   "metadata": {},
   "outputs": [
    {
     "name": "stdout",
     "output_type": "stream",
     "text": [
      "[[4.05808377e+15]\n",
      " [4.28655453e+15]\n",
      " [4.41857004e+15]\n",
      " [4.61321835e+15]\n",
      " [4.28655453e+15]\n",
      " [4.41857004e+15]\n",
      " [4.57568419e+15]\n",
      " [4.58065611e+15]\n",
      " [4.58023380e+15]\n",
      " [4.61321835e+15]\n",
      " [4.61619873e+15]\n",
      " [4.67869740e+15]\n",
      " [4.77760976e+15]\n",
      " [4.85029247e+15]\n",
      " [4.85029247e+15]\n",
      " [4.81813334e+15]\n",
      " [4.81813334e+15]\n",
      " [4.75963833e+15]\n",
      " [4.75963833e+15]\n",
      " [4.69958178e+15]\n",
      " [4.39032380e+15]\n",
      " [4.76075329e+15]\n",
      " [4.83713998e+15]\n",
      " [4.41857004e+15]\n",
      " [4.77760976e+15]\n",
      " [4.83713998e+15]\n",
      " [4.85029247e+15]\n",
      " [4.81813334e+15]\n",
      " [4.60046890e+15]\n",
      " [4.67874510e+15]\n",
      " [4.60046890e+15]\n",
      " [4.05808377e+15]\n",
      " [4.34362899e+13]\n",
      " [4.05808377e+15]\n",
      " [4.61619873e+15]\n",
      " [3.81024461e+13]\n",
      " [4.34362899e+13]]\n"
     ]
    },
    {
     "data": {
      "text/plain": [
       "37"
      ]
     },
     "execution_count": 50,
     "metadata": {},
     "output_type": "execute_result"
    }
   ],
   "source": [
    "total_nsj=(nsj_1+nsj_2+nsj_3+nsj_4+nsj_5+nsj_6+nsj_7+nsj_8+nsj_9+nsj_10)\n",
    "\n",
    "print(total_nsj)\n",
    "len(total_nsj)"
   ]
  },
  {
   "cell_type": "code",
   "execution_count": 123,
   "id": "56fce305",
   "metadata": {},
   "outputs": [
    {
     "name": "stdout",
     "output_type": "stream",
     "text": [
      "[[3.44349931e-20 3.22049832e-20 3.01193887e-20 2.81688574e-20\n",
      "  2.63446424e-20 2.46385636e-20 2.30429704e-20 2.15507078e-20\n",
      "  2.01550841e-20 1.88498410e-20 1.76291255e-20 1.64874635e-20\n",
      "  1.54197355e-20 1.44211535e-20 1.34872397e-20 1.26138062e-20\n",
      "  1.17969362e-20 1.10329667e-20 1.03184719e-20 9.65024772e-21\n",
      "  9.02529775e-21 8.44081954e-21 7.89419213e-21 7.38296431e-21\n",
      "  6.90484360e-21 6.45768599e-21 6.03948629e-21 5.64836921e-21\n",
      "  5.28258086e-21 4.94048097e-21 4.62053546e-21 4.32130962e-21\n",
      "  4.04146165e-21 3.77973662e-21 3.53496091e-21 3.30603687e-21\n",
      "  3.09193795e-21 2.89170407e-21 2.70443734e-21 2.52929800e-21]]\n"
     ]
    }
   ],
   "source": [
    "a=10**-7/(10**5)**2\n",
    "b=10**-11/(10**5)**2\n",
    "phi0= np.logspace(-21, -18, 40)#GeV cm^-2 sec^-1\n",
    "nsj_tot=total_nsj*phi0   #GeVsec-1\n",
    "#print(nsj_tot)\n",
    "len(nsj_tot[0])\n",
    "#print(nsj_tot.shape)\n",
    "#dF=phiE2*phi0  \n",
    "#print(dF)\n",
    "#E_sqdf=E**2*dF    #Gevcm^-2 sec^-1\n",
    "#print(E_sqdf)\n",
    "print(E_sqdf)"
   ]
  },
  {
   "cell_type": "code",
   "execution_count": 52,
   "id": "aa1db850",
   "metadata": {},
   "outputs": [
    {
     "name": "stdout",
     "output_type": "stream",
     "text": [
      "[[4.05808377e-06 4.84444562e-06 5.78318602e-06 ... 2.84757292e-03\n",
      "  3.39936604e-03 4.05808377e-03]\n",
      " [4.28655453e-06 5.11718867e-06 6.10878031e-06 ... 3.00789173e-03\n",
      "  3.59075088e-03 4.28655453e-03]\n",
      " [4.41857004e-06 5.27478571e-06 6.29691597e-06 ... 3.10052752e-03\n",
      "  3.70133733e-03 4.41857004e-03]\n",
      " ...\n",
      " [4.61619873e-06 5.51071021e-06 6.57855713e-06 ... 3.23920432e-03\n",
      "  3.86688646e-03 4.61619873e-03]\n",
      " [3.81024461e-08 4.54858101e-08 5.42998976e-08 ... 2.67366323e-05\n",
      "  3.19175671e-05 3.81024461e-05]\n",
      " [4.34362899e-08 5.18532283e-08 6.19011727e-08 ... 3.04794109e-05\n",
      "  3.63856088e-05 4.34362899e-05]]\n"
     ]
    }
   ],
   "source": [
    "print(nsj_tot)"
   ]
  },
  {
   "cell_type": "markdown",
   "id": "bde270c9",
   "metadata": {},
   "source": [
    "# CALCULATE NS"
   ]
  },
  {
   "cell_type": "code",
   "execution_count": 53,
   "id": "89e9c9e1",
   "metadata": {},
   "outputs": [
    {
     "name": "stdout",
     "output_type": "stream",
     "text": [
      "[0.00015648654656783361, 0.0001868099840352381, 0.0002230093953803139, 0.000266223407087878, 0.00031781128485914206, 0.0003793956883380965, 0.0004529137107051896, 0.000540677808552069, 0.0006454485385428097, 0.000770521388741126, 0.0009198304358205247, 0.0010980720886205515, 0.0013108528103137982, 0.0015648654656783365, 0.0018680998403523812, 0.0022300939538031396, 0.0026622340708787797, 0.003178112848591421, 0.003793956883380965, 0.004529137107051896, 0.005406778085520692, 0.006454485385428097, 0.00770521388741126, 0.009198304358205246, 0.010980720886205518, 0.013108528103137984, 0.015648654656783365, 0.018680998403523812, 0.022300939538031393, 0.026622340708787797, 0.0317811284859142, 0.03793956883380966, 0.04529137107051896, 0.054067780855206915, 0.06454485385428096, 0.0770521388741126, 0.09198304358205246, 0.10980720886205518, 0.13108528103137984, 0.15648654656783367]\n",
      "(40,)\n"
     ]
    }
   ],
   "source": [
    "ns_in=[]\n",
    "for j in range(0,40):\n",
    "        nsj_t = nsj_tot[:,j]\n",
    "        ns=np.sum(nsj_t) #np.sum(xw_model=37)\n",
    "        ns_in.append(ns)\n",
    "print(ns_in)\n",
    "ns_in=np.array(ns_in)\n",
    "print(ns_in.shape)"
   ]
  },
  {
   "cell_type": "code",
   "execution_count": 56,
   "id": "1a886f49",
   "metadata": {},
   "outputs": [
    {
     "name": "stdout",
     "output_type": "stream",
     "text": [
      "[0.10819159 0.06361264 0.12094257 ... 0.0747304  0.07364545 0.13721134]\n"
     ]
    },
    {
     "data": {
      "text/plain": [
       "1134431"
      ]
     },
     "execution_count": 56,
     "metadata": {},
     "output_type": "execute_result"
    }
   ],
   "source": [
    "Replace 'filename.pkl' with your actual file path\n",
    "with open('Bi_1.pkl', 'rb') as file:\n",
    "    Bi = pkl.load(file)\n",
    "\n",
    "print(Bi)\n",
    "len(Bi)"
   ]
  },
  {
   "cell_type": "raw",
   "id": "564d5a28",
   "metadata": {},
   "source": [
    "#EQUATION FOR LOADING THE BACKGROUND ,DUE TO LARGE DAAT,ITS TAKE TIME,SO WE USE ABOBE CODE\n",
    "ice_dec=fields[2]\n",
    "ice_dec = np.array(ice_dec)  \n",
    "fileObject = open('Bi.pkl', 'wb')\n",
    "N=len(ice_dec)\n",
    "\n",
    "def Bi_stacked_compute(nu):\n",
    "    countindices= abs(ice_dec - ice_dec[nu]) <=5\n",
    "    count=np.sum(countindices)\n",
    "    binwidth = (np.sin(np.deg2rad(ice_dec[nu] + 5)) - np.sin(np.deg2rad(ice_dec[nu] - 5)))*2*np.pi\n",
    "    return count/(binwidth * N)\n",
    "\n",
    "Bi=np.array([Bi_stacked_compute(nu) for nu in np.arange(len(ice_dec))])\n",
    "pkl.dump(Bi, fileObject)\n",
    "fileObject.close()"
   ]
  },
  {
   "cell_type": "code",
   "execution_count": 83,
   "id": "8a91f330",
   "metadata": {},
   "outputs": [
    {
     "name": "stdout",
     "output_type": "stream",
     "text": [
      "[0.10819159 0.06361264 0.12094257 ... 0.0747304  0.07364545 0.13721134]\n"
     ]
    }
   ],
   "source": [
    "#print(Bi)"
   ]
  },
  {
   "cell_type": "code",
   "execution_count": 58,
   "id": "5a660e33",
   "metadata": {},
   "outputs": [
    {
     "name": "stdout",
     "output_type": "stream",
     "text": [
      "[[4.05808377e+15]\n",
      " [4.28655453e+15]\n",
      " [4.41857004e+15]\n",
      " [4.61321835e+15]\n",
      " [4.28655453e+15]\n",
      " [4.41857004e+15]\n",
      " [4.57568419e+15]\n",
      " [4.58065611e+15]\n",
      " [4.58023380e+15]\n",
      " [4.61321835e+15]\n",
      " [4.61619873e+15]\n",
      " [4.67869740e+15]\n",
      " [4.77760976e+15]\n",
      " [4.85029247e+15]\n",
      " [4.85029247e+15]\n",
      " [4.81813334e+15]\n",
      " [4.81813334e+15]\n",
      " [4.75963833e+15]\n",
      " [4.75963833e+15]\n",
      " [4.69958178e+15]\n",
      " [4.39032380e+15]\n",
      " [4.76075329e+15]\n",
      " [4.83713998e+15]\n",
      " [4.41857004e+15]\n",
      " [4.77760976e+15]\n",
      " [4.83713998e+15]\n",
      " [4.85029247e+15]\n",
      " [4.81813334e+15]\n",
      " [4.60046890e+15]\n",
      " [4.67874510e+15]\n",
      " [4.60046890e+15]\n",
      " [4.05808377e+15]\n",
      " [4.34362899e+13]\n",
      " [4.05808377e+15]\n",
      " [4.61619873e+15]\n",
      " [3.81024461e+13]\n",
      " [4.34362899e+13]]\n"
     ]
    },
    {
     "data": {
      "text/plain": [
       "numpy.ndarray"
      ]
     },
     "execution_count": 58,
     "metadata": {},
     "output_type": "execute_result"
    }
   ],
   "source": [
    "w_accj=total_nsj\n",
    "print(w_accj)\n",
    "type(w_accj)\n"
   ]
  },
  {
   "cell_type": "code",
   "execution_count": 59,
   "id": "6164cc65",
   "metadata": {},
   "outputs": [
    {
     "name": "stdout",
     "output_type": "stream",
     "text": [
      "1.5648654656783366e+17\n"
     ]
    }
   ],
   "source": [
    "w_accsum=np.array(np.sum(w_accj))\n",
    "print(w_accsum)"
   ]
  },
  {
   "cell_type": "code",
   "execution_count": 60,
   "id": "2bfd748f",
   "metadata": {},
   "outputs": [
    {
     "name": "stdout",
     "output_type": "stream",
     "text": [
      "[[0. 0. 0. ... 0. 0. 0.]\n",
      " [0. 0. 0. ... 0. 0. 0.]\n",
      " [0. 0. 0. ... 0. 0. 0.]\n",
      " ...\n",
      " [0. 0. 0. ... 0. 0. 0.]\n",
      " [0. 0. 0. ... 0. 0. 0.]\n",
      " [0. 0. 0. ... 0. 0. 0.]]\n"
     ]
    }
   ],
   "source": [
    "def sig(ra_mag0,dec_mag0,ra_mag1,dec_mag1,ice_ra1,ice_dec1 ,iceang):\n",
    "        sg=np.radians(iceang)**2\n",
    "        Ang_sep1=(np.arccos((np.sin(ice_dec1)*np.sin(dec_mag1)+np.cos(ice_dec1)*np.cos(dec_mag1)*np.cos(ice_ra1-ra_mag1))))**2\n",
    "        return ((np.exp(-1*Ang_sep1/(2*sg)))/(2*np.pi*sg))\n",
    "\n",
    "ice_ra1 = np.radians(ice_ra)\n",
    "ice_dec1 = np.radians(ice_dec)\n",
    "\n",
    "Sij = np.empty((len(ice_ra), len(ra_mag)))\n",
    "\n",
    "for j in range(len(ra_mag)):\n",
    "    ra_mag0 = ra_mag[j]\n",
    "    dec_mag0 = dec_mag[j]\n",
    "    ra_mag1 = np.radians(ra_mag0)\n",
    "    dec_mag1 = np.radians(dec_mag0)\n",
    "    decdiff = np.abs(np.degrees(ice_dec1) - dec_mag0)\n",
    "    mask= decdiff <= 5\n",
    "    Sig = sig(ra_mag0,dec_mag0,ra_mag1,dec_mag1,ice_ra1,ice_dec1 ,iceang)\n",
    "    Sij[:,j]=np.where(mask, Sig, 0)\n",
    "print(Sij)    "
   ]
  },
  {
   "cell_type": "code",
   "execution_count": 63,
   "id": "0eec6d4f",
   "metadata": {},
   "outputs": [
    {
     "name": "stdout",
     "output_type": "stream",
     "text": [
      "[1.07435963e+02 3.05715257e+01 3.45787117e+01 1.05919369e+00\n",
      " 1.67854804e+02 2.08253343e+02 6.09890276e+00 1.57417129e+01\n",
      " 3.09214340e+01 2.77372026e-01 1.92058180e+01 1.33342266e-01\n",
      " 4.04183831e+01 1.67983170e-01 2.05262169e+00 4.88921887e-02\n",
      " 1.65534848e+02 2.75257407e-01 1.16922908e+02 7.72761792e-02\n",
      " 6.20303504e+01 1.15783003e+00 8.28632611e-01 3.65968759e+02\n",
      " 5.23982191e+01 3.67544208e+01 1.61438314e+01 2.68340927e+01\n",
      " 8.51092419e-02 8.27440677e-02 1.26387184e+01 3.62555774e-02\n",
      " 1.20305650e-02 5.34404896e-02 8.42882355e-02 9.01859317e+00\n",
      " 2.77093787e-01 3.93852275e+00 6.20199918e-02 1.05802517e-01\n",
      " 2.72509391e+01 3.21839376e-01 2.54019602e-02 3.97805359e-01\n",
      " 8.61900647e-01 5.29049138e-01 1.62751739e+02 1.29975494e+01\n",
      " 4.96869745e-02 3.75385151e-01]\n"
     ]
    }
   ],
   "source": [
    "newarrays=Sij[(Sij>0.01)]\n",
    "print(newarrays[:50])"
   ]
  },
  {
   "cell_type": "code",
   "execution_count": 75,
   "id": "848edc27",
   "metadata": {},
   "outputs": [
    {
     "name": "stdout",
     "output_type": "stream",
     "text": [
      "[0. 0. 0. ... 0. 0. 0.]\n",
      "(1134431,)\n"
     ]
    }
   ],
   "source": [
    "w_accj = (w_accj).reshape(1, -1)  # Now shape is (1, 37)\n",
    "S_i = np.sum(Sij * w_accj, axis=1) / np.sum(w_accj)\n",
    "print(S_i)\n",
    "print(S_i.shape)\n"
   ]
  },
  {
   "cell_type": "code",
   "execution_count": 79,
   "id": "a8d7528c",
   "metadata": {},
   "outputs": [
    {
     "name": "stdout",
     "output_type": "stream",
     "text": [
      "[4.08329461 1.05570475 0.0299075  ... 0.02602453 0.35288281 2.44602684]\n"
     ]
    }
   ],
   "source": [
    "newarrays1=S_i[(S_i>0.01)]\n",
    "print(newarrays1)"
   ]
  },
  {
   "cell_type": "code",
   "execution_count": 124,
   "id": "d8a5ef1d",
   "metadata": {},
   "outputs": [
    {
     "name": "stdout",
     "output_type": "stream",
     "text": [
      "[2.19489427e-06 2.62026577e-06 3.12787319e-06 3.73406720e-06\n",
      " 4.45774912e-06 5.32133796e-06 6.35255869e-06 7.58347379e-06\n",
      " 9.05314688e-06 1.08072003e-05 1.29015481e-05 1.54014779e-05\n",
      " 1.83857179e-05 2.19481865e-05 2.62010736e-05 3.12782000e-05\n",
      " 3.73387311e-05 4.45733562e-05 5.32099335e-05 6.35197445e-05\n",
      " 7.58267021e-05 9.05178163e-05 1.08054638e-04 1.28988281e-04\n",
      " 1.53976449e-04 1.83803982e-04 2.19407317e-04 2.61903708e-04\n",
      " 3.12626782e-04 3.73167150e-04 4.45421635e-04 5.31653731e-04\n",
      " 6.34561155e-04 7.57361039e-04 9.03887490e-04 1.07870823e-03\n",
      " 1.28726443e-03 1.53603302e-03 1.83272102e-03 2.18649267e-03]\n",
      "40\n"
     ]
    }
   ],
   "source": [
    "def P(nsi, S_i, Bi):\n",
    "    return (nsi/N)*S_i + (1 - (nsi/N))*Bi\n",
    "\n",
    "def TS(ns_in, S_i, Bi):\n",
    "    ts_values = []\n",
    "    for nsi in ns_in:\n",
    "        prob = P(nsi, S_i, Bi)\n",
    "        ts = 2 * np.sum(np.log(prob / Bi))\n",
    "        ts_values.append(ts)\n",
    "    return np.array(ts_values)\n",
    "\n",
    "\n",
    "print(TS(ns_in, S_i, Bi)) \n",
    "print(len(TS(ns_in, S_i, Bi)))"
   ]
  },
  {
   "cell_type": "code",
   "execution_count": 137,
   "id": "627434ec",
   "metadata": {},
   "outputs": [
    {
     "data": {
      "image/png": "[encoded data removed]",
      "text/plain": [
       "<Figure size 640x480 with 1 Axes>"
      ]
     },
     "metadata": {},
     "output_type": "display_data"
    }
   ],
   "source": [
    "xva=phi0*(10**5)**2\n",
    "#print(xval)\n",
    "plt.plot(xva, TS(ns_in, S_i, Bi))\n",
    "plt.xlabel('E² dF/dE (GeV cm⁻² sec⁻¹)')\n",
    "plt.xscale('log')\n",
    "plt.ylabel('TS')\n",
    "plt.show()\n",
    "\n"
   ]
  },
  {
   "cell_type": "code",
   "execution_count": 130,
   "id": "460f3db7",
   "metadata": {},
   "outputs": [
    {
     "name": "stdout",
     "output_type": "stream",
     "text": [
      "[1.00000000e-21 1.19377664e-21 1.42510267e-21 1.70125428e-21\n",
      " 2.03091762e-21 2.42446202e-21 2.89426612e-21 3.45510729e-21\n",
      " 4.12462638e-21 4.92388263e-21 5.87801607e-21 7.01703829e-21\n",
      " 8.37677640e-21 1.00000000e-20 1.19377664e-20 1.42510267e-20\n",
      " 1.70125428e-20 2.03091762e-20 2.42446202e-20 2.89426612e-20\n",
      " 3.45510729e-20 4.12462638e-20 4.92388263e-20 5.87801607e-20\n",
      " 7.01703829e-20 8.37677640e-20 1.00000000e-19 1.19377664e-19\n",
      " 1.42510267e-19 1.70125428e-19 2.03091762e-19 2.42446202e-19\n",
      " 2.89426612e-19 3.45510729e-19 4.12462638e-19 4.92388263e-19\n",
      " 5.87801607e-19 7.01703829e-19 8.37677640e-19 1.00000000e-18]\n"
     ]
    }
   ],
   "source": [
    "print(phi0)"
   ]
  },
  {
   "cell_type": "code",
   "execution_count": null,
   "id": "612f52f7",
   "metadata": {},
   "outputs": [],
   "source": []
  }
 ],
 "metadata": {
  "kernelspec": {
   "display_name": "Python 3 (ipykernel)",
   "language": "python",
   "name": "python3"
  },
  "language_info": {
   "codemirror_mode": {
    "name": "ipython",
    "version": 3
   },
   "file_extension": ".py",
   "mimetype": "text/x-python",
   "name": "python",
   "nbconvert_exporter": "python",
   "pygments_lexer": "ipython3",
   "version": "3.11.5"
  }
 },
 "nbformat": 4,
 "nbformat_minor": 5
}
